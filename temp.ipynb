{
 "cells": [
  {
   "cell_type": "code",
   "execution_count": 1,
   "metadata": {},
   "outputs": [
    {
     "name": "stdout",
     "output_type": "stream",
     "text": [
      "                                                 train  \\\n",
      "0    {'spotify_track_id': '06s6aloy62vytl3MnT6gfl',...   \n",
      "1    {'spotify_track_id': '0h9fnCSnbUgOEgibnQByFv',...   \n",
      "2    {'spotify_track_id': '1iArQTuOzxvrtniGmkyy92',...   \n",
      "3    {'spotify_track_id': '3A9vIxzGBjEfqmDK7H9exS',...   \n",
      "4    {'spotify_track_id': '39kHMfF3dBMZMbOtoit1XF',...   \n",
      "..                                                 ...   \n",
      "237  {'spotify_track_id': '0pVfvpMSFsabyuydMihDi1',...   \n",
      "238  {'spotify_track_id': '3spdoTYpuCpmq19tuD0bOe',...   \n",
      "239  {'spotify_track_id': '0FB5ILDICqwK6xj7W1RP9u',...   \n",
      "240  {'spotify_track_id': '4qFLzh0BSi0KpPYbTWHENQ',...   \n",
      "241  {'spotify_track_id': '1PAEeikWsmjY5pB3hbuF7G',...   \n",
      "\n",
      "                                             val_trial val_subject  \\\n",
      "0    {'spotify_track_id': '4JJ5zGKnb1IpERyBrfmb1y',...        None   \n",
      "1    {'spotify_track_id': '36qZIsik56PiT7HnM58e8g',...        None   \n",
      "2    {'spotify_track_id': '6Q4HcsWQpfXHvIZTRbTIuT',...        None   \n",
      "3    {'spotify_track_id': '5a0XvkKfdiUpBDat4Y4t9Y',...        None   \n",
      "4    {'spotify_track_id': '18rHhuIUwxXh3SdsBv6oM9',...        None   \n",
      "..                                                 ...         ...   \n",
      "237                                               None        None   \n",
      "238                                               None        None   \n",
      "239                                               None        None   \n",
      "240                                               None        None   \n",
      "241                                               None        None   \n",
      "\n",
      "                                            test_trial test_subject  \n",
      "0    {'spotify_track_id': None, 'song_title': None,...         None  \n",
      "1    {'spotify_track_id': '0RX9BDALuz1tn5yc2LoimN',...         None  \n",
      "2    {'spotify_track_id': None, 'song_title': None,...         None  \n",
      "3    {'spotify_track_id': '75JFxkI2RXiU7L9VXzMkle',...         None  \n",
      "4    {'spotify_track_id': None, 'song_title': None,...         None  \n",
      "..                                                 ...          ...  \n",
      "237                                               None         None  \n",
      "238                                               None         None  \n",
      "239                                               None         None  \n",
      "240                                               None         None  \n",
      "241                                               None         None  \n",
      "\n",
      "[242 rows x 5 columns]\n"
     ]
    }
   ],
   "source": [
    "import json\n",
    "import pandas as pd\n",
    "\n",
    "# Load JSON data\n",
    "with open('splits_subject_identification.json', 'r') as f:\n",
    "    data = json.load(f)\n",
    "\n",
    "# Get the length of the longest list\n",
    "max_length = max(len(v) for v in data.values())\n",
    "\n",
    "# Pad lists with None to make all lists the same length\n",
    "for key, value in data.items():\n",
    "    if len(value) < max_length:\n",
    "        data[key].extend([None] * (max_length - len(value)))\n",
    "\n",
    "# Convert to DataFrame\n",
    "df = pd.DataFrame(data)\n",
    "\n",
    "# Display the DataFrame\n",
    "print(df)\n"
   ]
  },
  {
   "cell_type": "code",
   "execution_count": 3,
   "metadata": {},
   "outputs": [
    {
     "data": {
      "text/plain": [
       "{'spotify_track_id': '06s6aloy62vytl3MnT6gfl',\n",
       " 'song_title': 'Times Like These - Live at the Pantages Theatre, Los Angeles, CA - August 2006',\n",
       " 'label': 0,\n",
       " 'emotion': 'Amusement',\n",
       " 'session_type': 'personal',\n",
       " 'subject_id': 23,\n",
       " 'id': 3784258358,\n",
       " 'song_author': ['Foo Fighters']}"
      ]
     },
     "execution_count": 3,
     "metadata": {},
     "output_type": "execute_result"
    }
   ],
   "source": [
    "df['train'][0]"
   ]
  },
  {
   "cell_type": "code",
   "execution_count": 6,
   "metadata": {},
   "outputs": [
    {
     "name": "stdout",
     "output_type": "stream",
     "text": [
      "84\n"
     ]
    }
   ],
   "source": [
    "count=0\n",
    "for i in range(0,len(df['train'])):\n",
    "    count+=1\n",
    "    if(6225670944==df['train'][i]['id']):\n",
    "        print(count)\n",
    "        break"
   ]
  },
  {
   "cell_type": "code",
   "execution_count": null,
   "metadata": {},
   "outputs": [],
   "source": [
    "2353056497"
   ]
  }
 ],
 "metadata": {
  "kernelspec": {
   "display_name": "Python 3",
   "language": "python",
   "name": "python3"
  },
  "language_info": {
   "codemirror_mode": {
    "name": "ipython",
    "version": 3
   },
   "file_extension": ".py",
   "mimetype": "text/x-python",
   "name": "python",
   "nbconvert_exporter": "python",
   "pygments_lexer": "ipython3",
   "version": "3.12.0"
  }
 },
 "nbformat": 4,
 "nbformat_minor": 2
}
